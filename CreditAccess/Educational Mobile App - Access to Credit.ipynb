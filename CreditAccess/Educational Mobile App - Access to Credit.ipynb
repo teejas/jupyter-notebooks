{
 "cells": [
  {
   "cell_type": "markdown",
   "id": "03797ee3",
   "metadata": {},
   "source": [
    "# Introduction\n",
    "\n",
    "I don't understand the importance of credit very well and I like to think I'm a relatively well-educated person. I'm also fortunate enough to have a form of \"social credit\", because I don't have to worry about being refused a loan from the bank if I can most likely get one for the same amount from my father. I realize I'm in a relatively small percentage of the population because of this. This social credit also allowed me to get away with not knowing enough credit to bother to start building it, but it isn't enough for others.\n",
    "\n",
    "If money is already tight and some sort of emergency occurs, people need to have a reliable credit provider to support them. Otherwise they will be forced to turn to shady and underhanded loan sharks who charge insane interest rates. This puts the already financially stressed individual into a twisted cycle of debt. They can't pay the principal plus interest and are forced to take even larger and larger loans.\n",
    "\n",
    "There are a few options in the interest of solving this problem:\n",
    "- Education is always a good option, making people aware of the importance of credit. \n",
    "- Making the process of opening a credit account, or accessing credit services more efficient.\n",
    "- "
   ]
  }
 ],
 "metadata": {
  "kernelspec": {
   "display_name": "Python 3",
   "language": "python",
   "name": "python3"
  },
  "language_info": {
   "codemirror_mode": {
    "name": "ipython",
    "version": 3
   },
   "file_extension": ".py",
   "mimetype": "text/x-python",
   "name": "python",
   "nbconvert_exporter": "python",
   "pygments_lexer": "ipython3",
   "version": "3.6.9"
  },
  "toc": {
   "base_numbering": 1,
   "nav_menu": {},
   "number_sections": true,
   "sideBar": true,
   "skip_h1_title": false,
   "title_cell": "Table of Contents",
   "title_sidebar": "Contents",
   "toc_cell": false,
   "toc_position": {},
   "toc_section_display": true,
   "toc_window_display": false
  }
 },
 "nbformat": 4,
 "nbformat_minor": 5
}
