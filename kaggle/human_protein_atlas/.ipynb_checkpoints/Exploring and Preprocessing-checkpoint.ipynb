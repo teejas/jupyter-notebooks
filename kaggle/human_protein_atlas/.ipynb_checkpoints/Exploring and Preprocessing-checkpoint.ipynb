{
 "cells": [
  {
   "cell_type": "markdown",
   "id": "angry-aurora",
   "metadata": {},
   "source": [
    "# Human Protein Atlas - Kaggle Competition\n",
    "\n",
    "[This is a weakly supervised multi-label classification problem and code competition.](https://www.kaggle.com/c/hpa-single-cell-image-classification/overview)\n",
    "\n",
    "This is a sandbox notebook to load in the data (or a subset since it's 150+GB) just to get an idea of what is available and what extra features may be worth including. Then I want to get started training a CNN to get some baseline performance metrics.\n",
    "\n",
    "Note: I need to set up a data warehouse or large store of some sort for the training/testing data, and a spark cluster or something to run jobs using the data. Gotta figure out how to set this up properly to train an image classification model."
   ]
  },
  {
   "cell_type": "markdown",
   "id": "actual-moscow",
   "metadata": {},
   "source": [
    "## Data\n",
    "\n"
   ]
  }
 ],
 "metadata": {
  "kernelspec": {
   "display_name": "Python 3",
   "language": "python",
   "name": "python3"
  },
  "language_info": {
   "codemirror_mode": {
    "name": "ipython",
    "version": 3
   },
   "file_extension": ".py",
   "mimetype": "text/x-python",
   "name": "python",
   "nbconvert_exporter": "python",
   "pygments_lexer": "ipython3",
   "version": "3.6.9"
  },
  "toc": {
   "base_numbering": 1,
   "nav_menu": {},
   "number_sections": true,
   "sideBar": true,
   "skip_h1_title": false,
   "title_cell": "Table of Contents",
   "title_sidebar": "Contents",
   "toc_cell": false,
   "toc_position": {},
   "toc_section_display": true,
   "toc_window_display": false
  }
 },
 "nbformat": 4,
 "nbformat_minor": 5
}
