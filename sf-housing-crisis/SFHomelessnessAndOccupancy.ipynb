{
 "cells": [
  {
   "cell_type": "markdown",
   "id": "a1b506f5",
   "metadata": {},
   "source": [
    "# Homelessness and Occupancy Rates\n",
    "\n",
    "## Introduction\n",
    "\n",
    "I'm baffled by the sheer number of unhoused people in San Francisco. This is particularly confounding given occupancy rates took a dive throughout COVID. That means there are more vacant units, but also more people living on the streets. It's not like these people were evicted and kicked from their homes to the streets, rather the people who were in those houses decided to flee the city during the pandemic. The landlords in turn, rather than lowering rent costs so that low-income families could move in, maintained the same rent prices and offered some concessions so that rent control would not prevent them from keeping prices level post-COVID."
   ]
  },
  {
   "cell_type": "markdown",
   "id": "7043edb5",
   "metadata": {},
   "source": [
    "I'd like to understanding the housing crisis better, specifically in San Francisco because the problem is so pronounced here. Oh, I also live here. I want to first start by getting data for occupancy rates over the past 1-5 years and homeless population size over this same time period. What I'm expecting to see is occupancy rates decreasing while homelessness increases. While this may make sense logically (because lower occupancy means less people in houses) I also believe the main reason occupancy rates are taking a dive is because techies who can afford to work remotely are abandoning the city, not because landlords are evicting tenants. To support this claim I should also look at eviction rates over the same time period and migration patterns (if that data is available)"
   ]
  },
  {
   "cell_type": "markdown",
   "id": "b96dc36a",
   "metadata": {},
   "source": [
    "So to summarize I'm going to find and graph the following:\n",
    " - homeless population size 2015-2020\n",
    " - occupancy rates (or vacancy rates which is just the inverse) 2015-2020\n",
    " - eviction rates 2015-2020\n",
    " - migration patterns (a bit open ended and uncertain if this data is even available)"
   ]
  },
  {
   "cell_type": "markdown",
   "id": "cfb357ba",
   "metadata": {},
   "source": [
    "## Datasets\n",
    "\n"
   ]
  },
  {
   "cell_type": "markdown",
   "id": "b2fa82b7",
   "metadata": {},
   "source": [
    "## References\n",
    "\n",
    "Below are useful links I found while trying to understand this topic better:\n",
    " - https://sfgov.org/scorecards/safety-net/homeless-population\n",
    "   - First graph makes it immediately clear that homelessness is on the rise over the past several years. Using the SF standard to determine if an individual is homeless makes that increase even more apparent. \n",
    "   - \"Previously, the count reported a number of individuals that did not fall under the federal standard definition of homelessness, such as individuals “doubled-up” in the homes of family or friends, individuals staying in jails, hospitals, or residential facilities, and families living in Single Room Occupancy (SRO) units. Under this previous, more expansive definition - referred to in the chart as the \"San Francisco standard\" - the 2019 count was 9,808; an increase of more than 30% over the 2017 count.\" \n",
    "   - In my opinion the SF standard is more comprehensive as a measure of how many people require government assistance to be housed. For the purposes of this study, however, we're only looking at those who are utterly without any form of shelter and live on the streets for an extended period of time (exact length of time TBD).\n",
    " - https://sfgov.org/scorecards/benchmarking/homelessness\n",
    "   - This is fucking absurd, compares homelessness across cities and shows how in Seattle and DC 1% of the total population is homeless (includes both sheltered and unsheltered). Does that not constitute an epidemic or public health crisis? Granted the majority of homeless in both those cities (>50% in Seattle; ~90% in DC) are sheltered which is a little reassuring. California as a state is not nearly as capable of sheltering those who are in need, despite being a frankly a ridiculously state with the 5th largest GDP when compared against countries. SF, LA, Berkeley, Oakland, San Jose, San Diego, Long Beach, and Sacramento all are in the top 15 cities ordered by homeless individuals per 100k. All of these cities have failed to shelter even 50% of their homeless population."
   ]
  },
  {
   "cell_type": "markdown",
   "id": "334f599f",
   "metadata": {},
   "source": [
    "## Notes\n",
    "\n",
    "While looking into occupancy/homelessness I'd also like to do a little digging into public utilities in SF (specifically restrooms). Public defecation is an issue in SF and oftentimes the major deciding factor for people considering moving into/out of the city. It isn't, however, the case that people without homes *want* to defecate in the streets, it's because they are often without a choice. So many public restrooms (need to confirm) were shuttered during the pandemic that people without access to private restrooms had no choice but to shit in public. This is disturbing on a number of levels, not least of which is the fact that people without homes aren't even being afforded dignity let alone shelter. I do think the more immediate and overarching concern is getting people off the streets and into homes, this would solve all the issues. With that said I'd like to understand if there is a severe lack of public restrooms in SF, if the pandemic impacted those numbers, and the effect of relevant legislation being passed (i.e. legislation which made public urination/defecation no longer a civil offense)."
   ]
  }
 ],
 "metadata": {
  "kernelspec": {
   "display_name": "Python 3",
   "language": "python",
   "name": "python3"
  },
  "language_info": {
   "codemirror_mode": {
    "name": "ipython",
    "version": 3
   },
   "file_extension": ".py",
   "mimetype": "text/x-python",
   "name": "python",
   "nbconvert_exporter": "python",
   "pygments_lexer": "ipython3",
   "version": "3.6.9"
  }
 },
 "nbformat": 4,
 "nbformat_minor": 5
}
