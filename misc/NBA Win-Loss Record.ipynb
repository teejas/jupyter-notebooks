{
 "cells": [
  {
   "cell_type": "markdown",
   "id": "8d6b97c4",
   "metadata": {},
   "source": [
    "# Introduction\n",
    "\n",
    "After watching *The Last Dance* and seeing Jordan and the Bulls go into the playoffs with the highest regular season win-loss record of any team up until then, I got curious about which team has gone into the playoffs with the worst win-loss record and came out finals champions."
   ]
  },
  {
   "cell_type": "markdown",
   "id": "9afe7597",
   "metadata": {},
   "source": [
    "## Dataset\n",
    "\n",
    "So I need to compile a dataset which has the season win-loss record of each team and the results of the Finals. Luckily I came across a Kaggle dataset which already compiled that from basketball-reference. I'll do some eyeball verification after I compile a list of the Finals champions and their season win-loss record from the dataset. It also only has records up until the 2016-17 season so I'll have to supplement the last few seasons with my own research."
   ]
  },
  {
   "cell_type": "code",
   "execution_count": 19,
   "id": "107ddc79",
   "metadata": {
    "ExecuteTime": {
     "end_time": "2021-05-28T01:14:46.697251Z",
     "start_time": "2021-05-28T01:14:46.692359Z"
    }
   },
   "outputs": [],
   "source": [
    "import pandas as pd\n",
    "import numpy as np\n",
    "from matplotlib import pyplot"
   ]
  },
  {
   "cell_type": "code",
   "execution_count": 6,
   "id": "23a4b72c",
   "metadata": {
    "ExecuteTime": {
     "end_time": "2021-05-28T00:52:23.463719Z",
     "start_time": "2021-05-28T00:52:23.434123Z"
    }
   },
   "outputs": [
    {
     "name": "stdout",
     "output_type": "stream",
     "text": [
      "    Season   Lg             Team   W   L   W/L%  Finish   SRS  Pace  Rel_Pace  \\\n",
      "0  2017-18  NBA   Boston Celtics  29  10  0.744       1  4.38  95.4      -1.7   \n",
      "1  2016-17  NBA  Boston Celtics*  53  29  0.646       1  2.25  96.8       0.4   \n",
      "2  2015-16  NBA  Boston Celtics*  48  34  0.585       2  2.84  98.5       2.7   \n",
      "3  2014-15  NBA  Boston Celtics*  40  42  0.488       2 -0.40  95.8       1.9   \n",
      "4  2013-14  NBA   Boston Celtics  25  57  0.305       4 -4.97  93.3      -0.6   \n",
      "\n",
      "    ORtg  Rel_ORtg   DRtg  Rel_DRtg                Playoffs  \\\n",
      "0  108.0       0.2  102.8      -5.0                     NaN   \n",
      "1  111.2       2.4  108.4      -0.4    Lost E. Conf. Finals   \n",
      "2  106.8       0.4  103.6      -2.8  Lost E. Conf. 1st Rnd.   \n",
      "3  104.7      -0.9  104.5      -1.1  Lost E. Conf. 1st Rnd.   \n",
      "4  102.9      -3.8  107.7       1.0                     NaN   \n",
      "\n",
      "              Coaches            Top WS  \n",
      "0  B. Stevens (29-10)   K. Irving (5.7)  \n",
      "1  B. Stevens (53-29)  I. Thomas (12.5)  \n",
      "2  B. Stevens (48-34)   I. Thomas (9.7)  \n",
      "3  B. Stevens (40-42)   T. Zeller (6.5)  \n",
      "4  B. Stevens (25-57)     B. Bass (5.1)  \n"
     ]
    }
   ],
   "source": [
    "df = pd.read_csv('data/Team_Records.csv')\n",
    "print(df.head())"
   ]
  },
  {
   "cell_type": "code",
   "execution_count": 7,
   "id": "d55517a8",
   "metadata": {
    "ExecuteTime": {
     "end_time": "2021-05-28T00:53:55.630153Z",
     "start_time": "2021-05-28T00:53:55.623418Z"
    }
   },
   "outputs": [
    {
     "data": {
      "text/plain": [
       "array([nan, 'Lost E. Conf. Finals', 'Lost E. Conf. 1st Rnd.',\n",
       "       'Lost E. Conf. Semis', 'Lost Finals', 'Won Finals',\n",
       "       'Lost E. Div. Finals', 'Lost E. Div. Semis', 'Lost Quarterfinals',\n",
       "       'Lost E. Div. Third Place Tiebreaker',\n",
       "       'Eliminated in E. Div. Rnd. Robin', 'Lost Semis',\n",
       "       'Lost W. Conf. Finals', 'Lost W. Conf. 1st Rnd.',\n",
       "       'Lost W. Conf. Semis', 'Lost W. Div. Finals',\n",
       "       'Lost W. Div. Tiebreaker', 'Lost W. Div. Semis',\n",
       "       'Eliminated in W. Div. Rnd. Robin', 'Lost Central Div. Finals',\n",
       "       'Lost 1st Rnd.', 'Lost Central Div. Semis'], dtype=object)"
      ]
     },
     "execution_count": 7,
     "metadata": {},
     "output_type": "execute_result"
    }
   ],
   "source": [
    "df.Playoffs.unique()"
   ]
  },
  {
   "cell_type": "code",
   "execution_count": 71,
   "id": "45450efe",
   "metadata": {
    "ExecuteTime": {
     "end_time": "2021-05-28T03:10:30.088130Z",
     "start_time": "2021-05-28T03:10:30.047427Z"
    }
   },
   "outputs": [
    {
     "name": "stdout",
     "output_type": "stream",
     "text": [
      "      Season   Lg                    Team   W   L   W/L%  Finish    SRS  Pace  \\\n",
      "782  2016-17  NBA  Golden State Warriors*  67  15  0.817       1  11.35  99.8   \n",
      "\n",
      "     Rel_Pace   ORtg  Rel_ORtg   DRtg  Rel_DRtg    Playoffs          Coaches  \\\n",
      "782       3.4  115.6       6.8  104.0      -4.8  Won Finals  S. Kerr (67-15)   \n",
      "\n",
      "              Top WS  \n",
      "782  S. Curry (12.6)  \n",
      "     Season   Lg                Team   W   L   W/L%  Finish  SRS  Pace  \\\n",
      "77  2019-20  NBA  Los Angeles Lakers  52  19  0.732     NaN  NaN   NaN   \n",
      "\n",
      "    Rel_Pace  ORtg  Rel_ORtg  DRtg  Rel_DRtg    Playoffs Coaches Top WS  \n",
      "77       NaN   NaN       NaN   NaN       NaN  Won Finals     NaN    NaN  \n"
     ]
    }
   ],
   "source": [
    "winners = df.loc[df['Playoffs'] == 'Won Finals']\n",
    "print(winners.loc[winners['Season'] == \"2016-17\"]) # Print the last season record available\n",
    "\n",
    "def add_row_to_df(df, szn, team, w, l, wl_pct):\n",
    "    entry = {'Season': szn, 'Lg': 'NBA', 'Team': team, 'W': w, 'L': l, 'W/L%': wl_pct, 'Playoffs': 'Won Finals'}\n",
    "    df = df.append(entry, ignore_index=True)\n",
    "    return df\n",
    "\n",
    "winners = add_row_to_df(winners, '2017-18', 'Golden State Warriors', 58, 24, .707)\n",
    "winners = add_row_to_df(winners, '2018-19', 'Toronto Raptors', 58, 24, .707)\n",
    "winners = add_row_to_df(winners, '2019-20', 'Los Angeles Lakers', 52, 19, .732)\n",
    "\n",
    "print(winners.loc[winners['Season'] == \"2019-20\"]) # Print the last season record available"
   ]
  },
  {
   "cell_type": "code",
   "execution_count": 66,
   "id": "5023a70c",
   "metadata": {
    "ExecuteTime": {
     "end_time": "2021-05-28T02:54:38.993550Z",
     "start_time": "2021-05-28T02:54:38.976870Z"
    }
   },
   "outputs": [
    {
     "name": "stdout",
     "output_type": "stream",
     "text": [
      "     Season   Lg                    Team   W   L   W/L%  Finish    SRS   Pace  \\\n",
      "62  1977-78  NBA     Washington Bullets*  44  38  0.537     2.0   0.82  108.1   \n",
      "32  1971-72  ABA         Indiana Pacers*  47  37  0.560     2.0   2.72  110.7   \n",
      "66  1957-58  NBA        St. Louis Hawks*  41  31  0.569     1.0   0.82  119.5   \n",
      "67  1994-95  NBA        Houston Rockets*  47  35  0.573     3.0   2.32   94.2   \n",
      "44  1946-47  BAA  Philadelphia Warriors*  35  25  0.583     2.0   3.16    NaN   \n",
      "..      ...  ...                     ...  ..  ..    ...     ...    ...    ...   \n",
      "38  1991-92  NBA          Chicago Bulls*  67  15  0.817     1.0  10.07   94.4   \n",
      "20  1966-67  NBA     Philadelphia 76ers*  68  13  0.840     1.0   8.50  122.9   \n",
      "56  1971-72  NBA     Los Angeles Lakers*  69  13  0.841     1.0  11.65  116.9   \n",
      "35  1996-97  NBA          Chicago Bulls*  69  13  0.841     1.0  10.70   90.0   \n",
      "36  1995-96  NBA          Chicago Bulls*  72  10  0.878     1.0  11.80   91.1   \n",
      "\n",
      "    Rel_Pace   ORtg  Rel_ORtg   DRtg  Rel_DRtg    Playoffs  \\\n",
      "62       1.4  101.3       0.4  100.5      -0.4  Won Finals   \n",
      "32      -1.2  101.1       0.5   98.7      -1.9  Won Finals   \n",
      "66       2.5   89.7       0.9   88.6      -0.2  Won Finals   \n",
      "67       1.3  109.7       1.4  107.4      -0.9  Won Finals   \n",
      "44       NaN    NaN       NaN    NaN       NaN  Won Finals   \n",
      "..       ...    ...       ...    ...       ...         ...   \n",
      "38      -2.2  115.5       7.3  104.5      -3.7  Won Finals   \n",
      "20       1.3  101.5       5.4   93.9      -2.2  Won Finals   \n",
      "56       4.9  103.1       5.2   92.6      -5.3  Won Finals   \n",
      "35      -0.1  114.4       7.7  102.4      -4.3  Won Finals   \n",
      "36      -0.7  115.2       7.6  101.8      -5.8  Won Finals   \n",
      "\n",
      "                   Coaches                 Top WS  \n",
      "62        D. Motta (44-38)         E. Hayes (8.3)  \n",
      "32      S. Leonard (47-37)      M. Daniels (10.3)  \n",
      "66       A. Hannum (41-31)       B. Pettit (11.0)  \n",
      "67  R. Tomjanovich (47-35)     H. Olajuwon (10.7)  \n",
      "44     E. Gottlieb (35-25)        J. Fulks (16.3)  \n",
      "..                     ...                    ...  \n",
      "38      P. Jackson (67-15)       M. Jordan (17.7)  \n",
      "20       A. Hannum (68-13)  W. Chamberlain (21.9)  \n",
      "56      B. Sharman (69-13)  W. Chamberlain (15.8)  \n",
      "35      P. Jackson (69-13)       M. Jordan (18.3)  \n",
      "36      P. Jackson (72-10)       M. Jordan (20.4)  \n",
      "\n",
      "[78 rows x 17 columns]\n"
     ]
    }
   ],
   "source": [
    "print(winners.sort_values(by=\"W/L%\"))"
   ]
  },
  {
   "cell_type": "markdown",
   "id": "8f6f0dbf",
   "metadata": {},
   "source": [
    "So the Washington Bullets (aka the Wizards) are the NBA champions with the lowest ever season win-loss percentage of 53.7%. Interestingly enough, the highest regular season record is held by the 2015-16 Warriors, at 73-9 (89%), but since they lost to the Cavs in the finals they do not appear on this list. The Finals champions with the best regular season record are still the '96 Bulls."
   ]
  }
 ],
 "metadata": {
  "kernelspec": {
   "display_name": "Python 3",
   "language": "python",
   "name": "python3"
  },
  "language_info": {
   "codemirror_mode": {
    "name": "ipython",
    "version": 3
   },
   "file_extension": ".py",
   "mimetype": "text/x-python",
   "name": "python",
   "nbconvert_exporter": "python",
   "pygments_lexer": "ipython3",
   "version": "3.6.9"
  },
  "toc": {
   "base_numbering": 1,
   "nav_menu": {},
   "number_sections": true,
   "sideBar": true,
   "skip_h1_title": false,
   "title_cell": "Table of Contents",
   "title_sidebar": "Contents",
   "toc_cell": false,
   "toc_position": {},
   "toc_section_display": true,
   "toc_window_display": false
  }
 },
 "nbformat": 4,
 "nbformat_minor": 5
}
