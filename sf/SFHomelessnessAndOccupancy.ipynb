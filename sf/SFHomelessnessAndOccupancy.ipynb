{
 "cells": [
  {
   "cell_type": "markdown",
   "id": "a1b506f5",
   "metadata": {},
   "source": [
    "# Homelessness and Occupancy Rates\n",
    "\n",
    "I'm baffled by the sheer number of unhoused people in San Francisco. This is particularly confounding given occupancy rates took a dive throughout COVID. That means there are more vacant units, but also more people living on the streets. It's not like these people were evicted and kicked from their homes to the streets, rather the people who were in those houses decided to flee the city during the pandemic. The landlords in turn, rather than lowering rent costs so that low-income families could move in, maintained the same rent prices and offered some concessions so that rent control would not prevent them from keeping prices level post-COVID."
   ]
  },
  {
   "cell_type": "markdown",
   "id": "7043edb5",
   "metadata": {},
   "source": [
    "I'd like to understanding the housing crisis better, specifically in San Francisco because the problem is so pronounced here. Oh, I also live here. I want to first start by getting data for occupancy rates over the past 1-5 years and homeless population size over this same time period. What I'm expecting to see is occupancy rates decreasing while homelessness increases. While this may make sense logically (because lower occupancy means less people in houses) I also believe the main reason occupancy rates are taking a dive is because techies who can afford to work remotely are abandoning the city, not because landlords are evicting tenants. To support this claim I should also look at eviction rates over the same time period and migration patterns (if that data is available)"
   ]
  },
  {
   "cell_type": "markdown",
   "id": "b96dc36a",
   "metadata": {},
   "source": [
    "So to summarize I'm going to find and graph the following:\n",
    " - homeless population size 2015-2020\n",
    " - occupancy rates (or vacancy rates which is just the inverse) 2015-2020\n",
    " - eviction rates 2015-2020\n",
    " - migration patterns (a bit open ended and uncertain if this data is even available)"
   ]
  },
  {
   "cell_type": "code",
   "execution_count": null,
   "id": "ce19764c",
   "metadata": {},
   "outputs": [],
   "source": []
  }
 ],
 "metadata": {
  "kernelspec": {
   "display_name": "Python 3",
   "language": "python",
   "name": "python3"
  },
  "language_info": {
   "codemirror_mode": {
    "name": "ipython",
    "version": 3
   },
   "file_extension": ".py",
   "mimetype": "text/x-python",
   "name": "python",
   "nbconvert_exporter": "python",
   "pygments_lexer": "ipython3",
   "version": "3.6.9"
  }
 },
 "nbformat": 4,
 "nbformat_minor": 5
}
