{
 "cells": [
  {
   "cell_type": "markdown",
   "id": "7278127e",
   "metadata": {},
   "source": [
    "# Introduction\n",
    "\n",
    "In the interest of understanding whether harm reduction services are actually effective it's worth taking a look at drug use historically. The best data sources around illicit drug use would come from drug arrest records and emergency room admissions. It will also be valuable to take a look at opioid use data which would fall under both legal (prescription) use and illegal recreational/diverted use."
   ]
  },
  {
   "cell_type": "code",
   "execution_count": 4,
   "id": "cf5a3697",
   "metadata": {},
   "outputs": [
    {
     "name": "stdout",
     "output_type": "stream",
     "text": [
      "  % Total    % Received % Xferd  Average Speed   Time    Time     Time  Current\n",
      "                                 Dload  Upload   Total   Spent    Left  Speed\n",
      "100 20.0M    0 20.0M    0     0  4160k      0 --:--:--  0:00:04 --:--:-- 4304k\n"
     ]
    }
   ],
   "source": [
    "!curl https://data.sfgov.org/api/views/xfre-2aqu/rows.csv?accessType=DOWNLOAD > data/datasf-drug-arrests.csv"
   ]
  },
  {
   "cell_type": "code",
   "execution_count": 37,
   "id": "5d2caee7",
   "metadata": {
    "ExecuteTime": {
     "end_time": "2021-05-07T06:36:46.127676Z",
     "start_time": "2021-05-07T06:36:46.123923Z"
    }
   },
   "outputs": [],
   "source": [
    "import pandas as pd\n",
    "import numpy as np\n",
    "from matplotlib import pyplot as plt"
   ]
  },
  {
   "cell_type": "code",
   "execution_count": 6,
   "id": "34685b9f",
   "metadata": {},
   "outputs": [],
   "source": [
    "df = pd.read_csv(\"data/datasf-drug-arrests.csv\")"
   ]
  },
  {
   "cell_type": "code",
   "execution_count": 7,
   "id": "6c3c685b",
   "metadata": {},
   "outputs": [
    {
     "data": {
      "text/html": [
       "<div>\n",
       "<style scoped>\n",
       "    .dataframe tbody tr th:only-of-type {\n",
       "        vertical-align: middle;\n",
       "    }\n",
       "\n",
       "    .dataframe tbody tr th {\n",
       "        vertical-align: top;\n",
       "    }\n",
       "\n",
       "    .dataframe thead th {\n",
       "        text-align: right;\n",
       "    }\n",
       "</style>\n",
       "<table border=\"1\" class=\"dataframe\">\n",
       "  <thead>\n",
       "    <tr style=\"text-align: right;\">\n",
       "      <th></th>\n",
       "      <th>IncidntNum</th>\n",
       "      <th>Category</th>\n",
       "      <th>Descript</th>\n",
       "      <th>DayOfWeek</th>\n",
       "      <th>Date</th>\n",
       "      <th>Time</th>\n",
       "      <th>PdDistrict</th>\n",
       "      <th>Resolution</th>\n",
       "      <th>Address</th>\n",
       "      <th>X</th>\n",
       "      <th>Y</th>\n",
       "      <th>PdId</th>\n",
       "    </tr>\n",
       "  </thead>\n",
       "  <tbody>\n",
       "    <tr>\n",
       "      <th>0</th>\n",
       "      <td>180322603</td>\n",
       "      <td>DRUG/NARCOTIC</td>\n",
       "      <td>POSSESSION OF HEROIN</td>\n",
       "      <td>Tuesday</td>\n",
       "      <td>05/01/2018</td>\n",
       "      <td>13:27</td>\n",
       "      <td>SOUTHERN</td>\n",
       "      <td>ARREST, BOOKED</td>\n",
       "      <td>600 Block of STEVENSON ST</td>\n",
       "      <td>-122.412652</td>\n",
       "      <td>37.779513</td>\n",
       "      <td>18032260316100</td>\n",
       "    </tr>\n",
       "    <tr>\n",
       "      <th>1</th>\n",
       "      <td>160355743</td>\n",
       "      <td>DRUG/NARCOTIC</td>\n",
       "      <td>POSSESSION OF METH-AMPHETAMINE</td>\n",
       "      <td>Sunday</td>\n",
       "      <td>05/01/2016</td>\n",
       "      <td>08:55</td>\n",
       "      <td>TENDERLOIN</td>\n",
       "      <td>ARREST, BOOKED</td>\n",
       "      <td>LEAVENWORTH ST / TURK ST</td>\n",
       "      <td>-122.414056</td>\n",
       "      <td>37.782793</td>\n",
       "      <td>16035574316650</td>\n",
       "    </tr>\n",
       "    <tr>\n",
       "      <th>2</th>\n",
       "      <td>170019525</td>\n",
       "      <td>DRUG/NARCOTIC</td>\n",
       "      <td>POSSESSION OF BASE/ROCK COCAINE FOR SALE</td>\n",
       "      <td>Saturday</td>\n",
       "      <td>01/07/2017</td>\n",
       "      <td>23:50</td>\n",
       "      <td>NORTHERN</td>\n",
       "      <td>ARREST, BOOKED</td>\n",
       "      <td>2100 Block of LOMBARD ST</td>\n",
       "      <td>-122.436863</td>\n",
       "      <td>37.799620</td>\n",
       "      <td>17001952516623</td>\n",
       "    </tr>\n",
       "    <tr>\n",
       "      <th>3</th>\n",
       "      <td>170899656</td>\n",
       "      <td>DRUG/NARCOTIC</td>\n",
       "      <td>POSSESSION OF CONTROLLED SUBSTANCE FOR SALE</td>\n",
       "      <td>Friday</td>\n",
       "      <td>11/03/2017</td>\n",
       "      <td>21:00</td>\n",
       "      <td>TENDERLOIN</td>\n",
       "      <td>ARREST, BOOKED</td>\n",
       "      <td>0 Block of JONES ST</td>\n",
       "      <td>-122.412193</td>\n",
       "      <td>37.781605</td>\n",
       "      <td>17089965616662</td>\n",
       "    </tr>\n",
       "    <tr>\n",
       "      <th>4</th>\n",
       "      <td>160551399</td>\n",
       "      <td>DRUG/NARCOTIC</td>\n",
       "      <td>POSSESSION OF MARIJUANA</td>\n",
       "      <td>Friday</td>\n",
       "      <td>07/08/2016</td>\n",
       "      <td>08:00</td>\n",
       "      <td>MISSION</td>\n",
       "      <td>ARREST, BOOKED</td>\n",
       "      <td>0 Block of ALBION ST</td>\n",
       "      <td>-122.423266</td>\n",
       "      <td>37.765650</td>\n",
       "      <td>16055139916010</td>\n",
       "    </tr>\n",
       "  </tbody>\n",
       "</table>\n",
       "</div>"
      ],
      "text/plain": [
       "   IncidntNum       Category                                     Descript  \\\n",
       "0   180322603  DRUG/NARCOTIC                         POSSESSION OF HEROIN   \n",
       "1   160355743  DRUG/NARCOTIC               POSSESSION OF METH-AMPHETAMINE   \n",
       "2   170019525  DRUG/NARCOTIC     POSSESSION OF BASE/ROCK COCAINE FOR SALE   \n",
       "3   170899656  DRUG/NARCOTIC  POSSESSION OF CONTROLLED SUBSTANCE FOR SALE   \n",
       "4   160551399  DRUG/NARCOTIC                      POSSESSION OF MARIJUANA   \n",
       "\n",
       "  DayOfWeek        Date   Time  PdDistrict      Resolution  \\\n",
       "0   Tuesday  05/01/2018  13:27    SOUTHERN  ARREST, BOOKED   \n",
       "1    Sunday  05/01/2016  08:55  TENDERLOIN  ARREST, BOOKED   \n",
       "2  Saturday  01/07/2017  23:50    NORTHERN  ARREST, BOOKED   \n",
       "3    Friday  11/03/2017  21:00  TENDERLOIN  ARREST, BOOKED   \n",
       "4    Friday  07/08/2016  08:00     MISSION  ARREST, BOOKED   \n",
       "\n",
       "                     Address           X          Y            PdId  \n",
       "0  600 Block of STEVENSON ST -122.412652  37.779513  18032260316100  \n",
       "1   LEAVENWORTH ST / TURK ST -122.414056  37.782793  16035574316650  \n",
       "2   2100 Block of LOMBARD ST -122.436863  37.799620  17001952516623  \n",
       "3        0 Block of JONES ST -122.412193  37.781605  17089965616662  \n",
       "4       0 Block of ALBION ST -122.423266  37.765650  16055139916010  "
      ]
     },
     "execution_count": 7,
     "metadata": {},
     "output_type": "execute_result"
    }
   ],
   "source": [
    "df.head()"
   ]
  },
  {
   "cell_type": "markdown",
   "id": "eae562d3",
   "metadata": {},
   "source": [
    "Let's take the `Date` column and just generate a quick histogram of drug arrests per year."
   ]
  },
  {
   "cell_type": "code",
   "execution_count": 35,
   "id": "68e59a64",
   "metadata": {
    "ExecuteTime": {
     "end_time": "2021-05-07T06:36:10.794892Z",
     "start_time": "2021-05-07T06:36:10.199679Z"
    }
   },
   "outputs": [
    {
     "name": "stdout",
     "output_type": "stream",
     "text": [
      "{2003: 9784, 2004: 9792, 2005: 8444, 2006: 8943, 2007: 10360, 2008: 11456, 2009: 11771, 2010: 9036, 2011: 6802, 2012: 6307, 2013: 6672, 2014: 5324, 2015: 4194, 2016: 4202, 2017: 3265, 2018: 1469}\n"
     ]
    }
   ],
   "source": [
    "dates = df[\"Date\"].str.split('/').str[2].astype(int)\n",
    "dates.sort_values(inplace=True)\n",
    "year_cts = {}\n",
    "for year in dates:\n",
    "    if year not in year_cts.keys():\n",
    "        year_cts[year] = 1\n",
    "    else:\n",
    "        year_cts[year] += 1\n",
    "\n",
    "print(year_cts)"
   ]
  },
  {
   "cell_type": "code",
   "execution_count": 38,
   "id": "ece605b6",
   "metadata": {
    "ExecuteTime": {
     "end_time": "2021-05-07T06:36:48.307077Z",
     "start_time": "2021-05-07T06:36:48.094439Z"
    }
   },
   "outputs": [
    {
     "data": {
      "text/plain": [
       "[<matplotlib.lines.Line2D at 0x7f43e8048470>]"
      ]
     },
     "execution_count": 38,
     "metadata": {},
     "output_type": "execute_result"
    },
    {
     "data": {
      "image/png": "[encoded data removed]",
      "text/plain": [
       "<Figure size 432x288 with 1 Axes>"
      ]
     },
     "metadata": {
      "needs_background": "light"
     },
     "output_type": "display_data"
    }
   ],
   "source": [
    "plt.plot(year_cts.keys(), year_cts.values())"
   ]
  },
  {
   "cell_type": "code",
   "execution_count": null,
   "id": "b92cbfa9",
   "metadata": {},
   "outputs": [],
   "source": []
  }
 ],
 "metadata": {
  "kernelspec": {
   "display_name": "Python 3",
   "language": "python",
   "name": "python3"
  },
  "language_info": {
   "codemirror_mode": {
    "name": "ipython",
    "version": 3
   },
   "file_extension": ".py",
   "mimetype": "text/x-python",
   "name": "python",
   "nbconvert_exporter": "python",
   "pygments_lexer": "ipython3",
   "version": "3.6.9"
  },
  "toc": {
   "base_numbering": 1,
   "nav_menu": {},
   "number_sections": true,
   "sideBar": true,
   "skip_h1_title": false,
   "title_cell": "Table of Contents",
   "title_sidebar": "Contents",
   "toc_cell": false,
   "toc_position": {},
   "toc_section_display": true,
   "toc_window_display": false
  }
 },
 "nbformat": 4,
 "nbformat_minor": 5
}
