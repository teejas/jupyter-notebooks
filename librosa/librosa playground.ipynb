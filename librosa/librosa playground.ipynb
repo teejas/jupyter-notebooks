{
 "cells": [
  {
   "cell_type": "markdown",
   "id": "8c3b5401",
   "metadata": {},
   "source": [
    "# Librosa\n",
    "\n",
    "I'd like to contribute to `librosa`, but to start with I should understand it better. I'll just mess around with it here and get familiar.\n",
    "\n",
    "Using some random track I found on Free Music Archive: [link](https://freemusicarchive.org/music/Hobotek/Mutual_Kitchen/09_Demomiculatorxl/)"
   ]
  },
  {
   "cell_type": "code",
   "execution_count": 15,
   "id": "b7468cf4",
   "metadata": {},
   "outputs": [
    {
     "name": "stdout",
     "output_type": "stream",
     "text": [
      "Requirement already satisfied: librosa in /usr/local/lib/python3.6/dist-packages (0.9.1)\n",
      "Requirement already satisfied: scipy>=1.2.0 in /usr/local/lib/python3.6/dist-packages (from librosa) (1.5.4)\n",
      "Requirement already satisfied: audioread>=2.1.5 in /usr/local/lib/python3.6/dist-packages (from librosa) (2.1.9)\n",
      "Requirement already satisfied: resampy>=0.2.2 in /usr/local/lib/python3.6/dist-packages (from librosa) (0.2.2)\n",
      "Requirement already satisfied: pooch>=1.0 in /usr/local/lib/python3.6/dist-packages (from librosa) (1.6.0)\n",
      "Requirement already satisfied: joblib>=0.14 in /usr/local/lib/python3.6/dist-packages (from librosa) (1.1.0)\n",
      "Requirement already satisfied: packaging>=20.0 in /usr/local/lib/python3.6/dist-packages (from librosa) (21.0)\n",
      "Requirement already satisfied: numba>=0.45.1 in /usr/local/lib/python3.6/dist-packages (from librosa) (0.53.1)\n",
      "Requirement already satisfied: scikit-learn>=0.19.1 in /usr/local/lib/python3.6/dist-packages (from librosa) (0.24.2)\n",
      "Requirement already satisfied: soundfile>=0.10.2 in /usr/local/lib/python3.6/dist-packages (from librosa) (0.10.3.post1)\n",
      "Requirement already satisfied: decorator>=4.0.10 in /usr/local/lib/python3.6/dist-packages (from librosa) (5.0.9)\n",
      "Requirement already satisfied: numpy>=1.17.0 in /usr/local/lib/python3.6/dist-packages (from librosa) (1.19.5)\n",
      "Requirement already satisfied: llvmlite<0.37,>=0.36.0rc1 in /usr/local/lib/python3.6/dist-packages (from numba>=0.45.1->librosa) (0.36.0)\n",
      "Requirement already satisfied: setuptools in /usr/lib/python3/dist-packages (from numba>=0.45.1->librosa) (39.0.1)\n",
      "Requirement already satisfied: pyparsing>=2.0.2 in /usr/local/lib/python3.6/dist-packages (from packaging>=20.0->librosa) (2.4.7)\n",
      "Requirement already satisfied: appdirs>=1.3.0 in /usr/local/lib/python3.6/dist-packages (from pooch>=1.0->librosa) (1.4.4)\n",
      "Requirement already satisfied: requests>=2.19.0 in /usr/local/lib/python3.6/dist-packages (from pooch>=1.0->librosa) (2.26.0)\n",
      "Requirement already satisfied: six>=1.3 in /usr/lib/python3/dist-packages (from resampy>=0.2.2->librosa) (1.11.0)\n",
      "Requirement already satisfied: threadpoolctl>=2.0.0 in /usr/local/lib/python3.6/dist-packages (from scikit-learn>=0.19.1->librosa) (3.1.0)\n",
      "Requirement already satisfied: cffi>=1.0 in /usr/local/lib/python3.6/dist-packages (from soundfile>=0.10.2->librosa) (1.14.6)\n",
      "Requirement already satisfied: pycparser in /usr/local/lib/python3.6/dist-packages (from cffi>=1.0->soundfile>=0.10.2->librosa) (2.20)\n",
      "Requirement already satisfied: charset-normalizer~=2.0.0 in /usr/local/lib/python3.6/dist-packages (from requests>=2.19.0->pooch>=1.0->librosa) (2.0.4)\n",
      "Requirement already satisfied: urllib3<1.27,>=1.21.1 in /usr/local/lib/python3.6/dist-packages (from requests>=2.19.0->pooch>=1.0->librosa) (1.26.6)\n",
      "Requirement already satisfied: idna<4,>=2.5 in /usr/lib/python3/dist-packages (from requests>=2.19.0->pooch>=1.0->librosa) (2.6)\n",
      "Requirement already satisfied: certifi>=2017.4.17 in /usr/local/lib/python3.6/dist-packages (from requests>=2.19.0->pooch>=1.0->librosa) (2021.5.30)\n",
      "\u001b[33mWARNING: Running pip as the 'root' user can result in broken permissions and conflicting behaviour with the system package manager. It is recommended to use a virtual environment instead: https://pip.pypa.io/warnings/venv\u001b[0m\n"
     ]
    }
   ],
   "source": [
    "!pip3 install librosa"
   ]
  },
  {
   "cell_type": "code",
   "execution_count": 16,
   "id": "a043c1d3",
   "metadata": {},
   "outputs": [
    {
     "name": "stdout",
     "output_type": "stream",
     "text": [
      "Reading package lists... Done\n",
      "Building dependency tree       \n",
      "Reading state information... Done\n",
      "libsndfile1 is already the newest version (1.0.28-4ubuntu0.18.04.2).\n",
      "0 upgraded, 0 newly installed, 0 to remove and 74 not upgraded.\n"
     ]
    }
   ],
   "source": [
    "!apt-get install -y libsndfile1"
   ]
  },
  {
   "cell_type": "code",
   "execution_count": 28,
   "id": "03fb7c88",
   "metadata": {},
   "outputs": [],
   "source": [
    "import librosa\n",
    "\n",
    "filename = librosa.example('nutcracker')\n",
    "# filename = \"/notebook/librosa/demomiculatorxl.mp3\"\n",
    "\n",
    "y, sr = librosa.load(filename, duration=10)"
   ]
  },
  {
   "cell_type": "markdown",
   "id": "6c75e0d6",
   "metadata": {},
   "source": [
    "Off the bat having some issues loading my mp3 file, so I'm just going to use the provided example audio file."
   ]
  },
  {
   "cell_type": "code",
   "execution_count": 24,
   "id": "229c5a5c",
   "metadata": {},
   "outputs": [
    {
     "name": "stdout",
     "output_type": "stream",
     "text": [
      "Estimated tempo: 107.67 beats per minute\n"
     ]
    }
   ],
   "source": [
    "tempo, beat_frames = librosa.beat.beat_track(y=y, sr=sr)\n",
    "print('Estimated tempo: {:.2f} beats per minute'.format(tempo))"
   ]
  },
  {
   "cell_type": "markdown",
   "id": "3ca7b3a6",
   "metadata": {},
   "source": [
    "I really want to try out the plotting features, look at some spectrograms."
   ]
  },
  {
   "cell_type": "code",
   "execution_count": null,
   "id": "3bfe9fca",
   "metadata": {},
   "outputs": [],
   "source": []
  }
 ],
 "metadata": {
  "kernelspec": {
   "display_name": "Python 3",
   "language": "python",
   "name": "python3"
  },
  "language_info": {
   "codemirror_mode": {
    "name": "ipython",
    "version": 3
   },
   "file_extension": ".py",
   "mimetype": "text/x-python",
   "name": "python",
   "nbconvert_exporter": "python",
   "pygments_lexer": "ipython3",
   "version": "3.6.9"
  }
 },
 "nbformat": 4,
 "nbformat_minor": 5
}
